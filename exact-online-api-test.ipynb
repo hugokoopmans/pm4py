{
 "cells": [
  {
   "cell_type": "code",
   "execution_count": 1,
   "metadata": {},
   "outputs": [
    {
     "name": "stdout",
     "output_type": "stream",
     "text": [
      "Collecting exactonline\n",
      "  Downloading exactonline-0.4.0.tar.gz (41 kB)\n",
      "\u001b[2K     \u001b[38;2;114;156;31m━━━━━━━━━━━━━━━━━━━━━━━━━━━━━━━━━━━━━━━━\u001b[0m \u001b[32m41.3/41.3 KB\u001b[0m \u001b[31m2.2 MB/s\u001b[0m eta \u001b[36m0:00:00\u001b[0m\n",
      "\u001b[?25h  Preparing metadata (setup.py) ... \u001b[?25ldone\n",
      "\u001b[?25hUsing legacy 'setup.py install' for exactonline, since package 'wheel' is not installed.\n",
      "Installing collected packages: exactonline\n",
      "  Running setup.py install for exactonline ... \u001b[?25ldone\n",
      "\u001b[?25hSuccessfully installed exactonline-0.4.0\n"
     ]
    }
   ],
   "source": [
    "# pip install\n",
    "!pip install exactonline"
   ]
  },
  {
   "cell_type": "markdown",
   "metadata": {},
   "source": []
  },
  {
   "cell_type": "code",
   "execution_count": 19,
   "metadata": {},
   "outputs": [],
   "source": [
    "# exact online api py\n",
    "\n",
    "from exactonline.api import ExactApi\n",
    "from exactonline.exceptions import ObjectDoesNotExist\n",
    "from exactonline.storage import IniStorage\n",
    "\n",
    "# Create a function to get the api with your own storage backend.\n",
    "def get_api():\n",
    "    storage = IniStorage('./config.ini')\n",
    "    return ExactApi(storage=storage)\n",
    "api = get_api()"
   ]
  },
  {
   "cell_type": "code",
   "execution_count": 20,
   "metadata": {},
   "outputs": [],
   "source": [
    "url = api.create_auth_request_url()"
   ]
  },
  {
   "cell_type": "code",
   "execution_count": 21,
   "metadata": {},
   "outputs": [
    {
     "data": {
      "text/plain": [
       "'https://start.exactonline.nl/api/oauth2/auth?client_id=%7B846ba1b6-1ebf-4fd4-abf7-2f255241a3e1%7D&redirect_uri=http%3A//localhost%3A8080/&response_type=code'"
      ]
     },
     "execution_count": 21,
     "metadata": {},
     "output_type": "execute_result"
    }
   ],
   "source": [
    "# the redirect does not work but we can get the code by hand\n",
    "url"
   ]
  },
  {
   "cell_type": "code",
   "execution_count": 26,
   "metadata": {},
   "outputs": [],
   "source": [
    "code = 'stampNL001.RcKG%21IAAAAPAOCY7N6XgLi3AAPqWebTdntbn1drfTDnPljL_agH844QEAAAEh7e0FpCLG89hqPgz9bziGAd2v7Gh4Vpd3sGxhROBwI7YypfINrHIYpINRiDOY-3777POy9v7AnVHY7ui7ukN4cwoXNG8IiO5iA0XV70sblnNBmtXXAoZpX_BLQXKcj93dhvXOUGrnYdtdt-dp0kwi2ZYl9QaU-sviyAFHwTeEIy-f1Rt5PxU1I5HRPTCrJh2Q9V6fuOu_-h_yeDutXOVqbfVFzNqdyxMo7cEr2zD6TXqIsJ-99NAHLi23OCgpqmdpUiv-E6sTgITnY04dEb1a1IOxISruhSsWtPJLhB64vG5SBKGzW-4MlY1Z2iAakNxfq6M52skXGv1rE8lc_r_pUJecx_vAyiMrW5bgffSEqJy-Ui7bisBYu-aB6SX4AMDwub9hHtMAMnZYI2zvSZejL5fUUK0v2A4v3Gp3LX8IkAsCV81MUAI3d5uAj8LnThw7UEYC81z3eeiVFIvdfX3EbMp-rJgB27Fi7cZm-iPe3UnEqjUpxTMdBtHv3zMhcios4QT1vsgUsE2fL8yuCyva88guk5diktJ6T4pOxYv1YUSG6yfH_r8qrujDn3sXD8bxqW5hcxKz10HKLNZBqDyXq3GNNpmp842Vu-npB4NpizJPyB-8_3kCkNwRuf7_UfE'"
   ]
  },
  {
   "cell_type": "code",
   "execution_count": 27,
   "metadata": {},
   "outputs": [
    {
     "ename": "HTTPError",
     "evalue": "HTTPError: Bad Request\n-----------------------------------------------------------------------\nPOST https://start.exactonline.nl/api/oauth2/token\nContent-Length: 870\n\nclient_id=%7B846ba1b6-1ebf-4fd4-abf7-2f255241a3e1%7D&client_secret=oVP7nHkpCEoB&code=stampNL001.RcKG%2521IAAAAPAOCY7N6XgLi3AAPqWebTdntbn1drfTDnPljL_agH844QEAAAEh7e0FpCLG89hqPgz9bziGAd2v7Gh4Vpd3sGxhROBwI7YypfINrHIYpINRiDOY-3777POy9v7AnVHY7ui7ukN4cwoXNG8IiO5iA0XV70sblnNBmtXXAoZpX_BLQXKcj93dhvXOUGrnYdtdt-dp0kwi2ZYl9QaU-sviyAFHwTeEIy-f1Rt5PxU1I5HRPTCrJh2Q9V6fuOu_-h_yeDutXOVqbfVFzNqdyxMo7cEr2zD6TXqIsJ-99NAHLi23OCgpqmdpUiv-E6sTgITnY04dEb1a1IOxISruhSsWtPJLhB64vG5SBKGzW-4MlY1Z2iAakNxfq6M52skXGv1rE8lc_r_pUJecx_vAyiMrW5bgffSEqJy-Ui7bisBYu-aB6SX4AMDwub9hHtMAMnZYI2zvSZejL5fUUK0v2A4v3Gp3LX8IkAsCV81MUAI3d5uAj8LnThw7UEYC81z3eeiVFIvdfX3EbMp-rJgB27Fi7cZm-iPe3UnEqjUpxTMdBtHv3zMhcios4QT1vsgUsE2fL8yuCyva88guk5diktJ6T4pOxYv1YUSG6yfH_r8qrujDn3sXD8bxqW5hcxKz10HKLNZBqDyXq3GNNpmp842Vu-npB4NpizJPyB-8_3kCkNwRuf7_UfE&grant_type=authorization_code&redirect_uri=http%3A//localhost%3A8080/\n-----------------------------------------------------------------------\n<RESP> 400 Bad Request\nContent-Type: application/json\nContent-Length: 79\n\n{\"error\":\"invalid_request\",\"error_description\":\"Handle could not be extracted\"}\n-----------------------------------------------------------------------",
     "output_type": "error",
     "traceback": [
      "\u001b[0;31m---------------------------------------------------------------------------\u001b[0m",
      "\u001b[0;31mHTTPError\u001b[0m                                 Traceback (most recent call last)",
      "\u001b[1;32m/home/hugo/git/pm4py/exact-online-api-test.ipynb Cell 7\u001b[0m line \u001b[0;36m1\n\u001b[0;32m----> <a href='vscode-notebook-cell:/home/hugo/git/pm4py/exact-online-api-test.ipynb#W5sZmlsZQ%3D%3D?line=0'>1</a>\u001b[0m api\u001b[39m.\u001b[39;49mrequest_token(code)\n",
      "File \u001b[0;32m~/git/pm4py/.mypm4py/lib/python3.10/site-packages/exactonline/rawapi.py:173\u001b[0m, in \u001b[0;36mExactRawApi.request_token\u001b[0;34m(self, code)\u001b[0m\n\u001b[1;32m    171\u001b[0m \u001b[39m# Fire away!\u001b[39;00m\n\u001b[1;32m    172\u001b[0m url \u001b[39m=\u001b[39m \u001b[39mself\u001b[39m\u001b[39m.\u001b[39mstorage\u001b[39m.\u001b[39mget_token_url()\n\u001b[0;32m--> 173\u001b[0m response \u001b[39m=\u001b[39m _json_safe(http_req(\n\u001b[1;32m    174\u001b[0m     \u001b[39m'\u001b[39;49m\u001b[39mPOST\u001b[39;49m\u001b[39m'\u001b[39;49m, url, token_data, opt\u001b[39m=\u001b[39;49mopt_secure, limiter\u001b[39m=\u001b[39;49m\u001b[39mself\u001b[39;49m\u001b[39m.\u001b[39;49mlimiter))\n\u001b[1;32m    176\u001b[0m \u001b[39m# Validate and store the values.\u001b[39;00m\n\u001b[1;32m    177\u001b[0m \u001b[39mself\u001b[39m\u001b[39m.\u001b[39m_set_tokens(response)\n",
      "File \u001b[0;32m~/git/pm4py/.mypm4py/lib/python3.10/site-packages/exactonline/http.py:251\u001b[0m, in \u001b[0;36mhttp_req\u001b[0;34m(method, url, data, opt, limiter)\u001b[0m\n\u001b[1;32m    247\u001b[0m \u001b[39melse\u001b[39;00m:\n\u001b[1;32m    248\u001b[0m     \u001b[39mraise\u001b[39;00m \u001b[39mNotImplementedError\u001b[39;00m(\n\u001b[1;32m    249\u001b[0m         \u001b[39m'\u001b[39m\u001b[39mNo REST handler for method \u001b[39m\u001b[39m%s\u001b[39;00m\u001b[39m'\u001b[39m \u001b[39m%\u001b[39m (method,))\n\u001b[0;32m--> 251\u001b[0m \u001b[39mreturn\u001b[39;00m _http_request(\n\u001b[1;32m    252\u001b[0m     url, method\u001b[39m=\u001b[39;49mmethod, data\u001b[39m=\u001b[39;49m_marshalled(data), opt\u001b[39m=\u001b[39;49mopt, limiter\u001b[39m=\u001b[39;49mlimiter)\n",
      "File \u001b[0;32m~/git/pm4py/.mypm4py/lib/python3.10/site-packages/exactonline/http.py:343\u001b[0m, in \u001b[0;36m_http_request\u001b[0;34m(url, method, data, opt, limiter)\u001b[0m\n\u001b[1;32m    339\u001b[0m             fp\u001b[39m.\u001b[39mclose()\n\u001b[1;32m    340\u001b[0m             \u001b[39m# And, even more importantly. Some people want the\u001b[39;00m\n\u001b[1;32m    341\u001b[0m             \u001b[39m# exception/error info. Store it in our HTTPError\u001b[39;00m\n\u001b[1;32m    342\u001b[0m             \u001b[39m# subclass.\u001b[39;00m\n\u001b[0;32m--> 343\u001b[0m             \u001b[39mraise\u001b[39;00m HTTPError(\n\u001b[1;32m    344\u001b[0m                 exc_info[\u001b[39m1\u001b[39m]\u001b[39m.\u001b[39murl,\n\u001b[1;32m    345\u001b[0m                 exc_info[\u001b[39m1\u001b[39m]\u001b[39m.\u001b[39mcode,\n\u001b[1;32m    346\u001b[0m                 exc_info[\u001b[39m1\u001b[39m]\u001b[39m.\u001b[39mmsg,\n\u001b[1;32m    347\u001b[0m                 exc_info[\u001b[39m1\u001b[39m]\u001b[39m.\u001b[39mhdrs,\n\u001b[1;32m    348\u001b[0m                 response,\n\u001b[1;32m    349\u001b[0m                 method \u001b[39mor\u001b[39;00m \u001b[39m'\u001b[39m\u001b[39m(none)\u001b[39m\u001b[39m'\u001b[39m,\n\u001b[1;32m    350\u001b[0m                 data)\n\u001b[1;32m    351\u001b[0m         fp\u001b[39m.\u001b[39mclose()\n\u001b[1;32m    353\u001b[0m \u001b[39mif\u001b[39;00m exc_info:\n",
      "\u001b[0;31mHTTPError\u001b[0m: HTTPError: Bad Request\n-----------------------------------------------------------------------\nPOST https://start.exactonline.nl/api/oauth2/token\nContent-Length: 870\n\nclient_id=%7B846ba1b6-1ebf-4fd4-abf7-2f255241a3e1%7D&client_secret=oVP7nHkpCEoB&code=stampNL001.RcKG%2521IAAAAPAOCY7N6XgLi3AAPqWebTdntbn1drfTDnPljL_agH844QEAAAEh7e0FpCLG89hqPgz9bziGAd2v7Gh4Vpd3sGxhROBwI7YypfINrHIYpINRiDOY-3777POy9v7AnVHY7ui7ukN4cwoXNG8IiO5iA0XV70sblnNBmtXXAoZpX_BLQXKcj93dhvXOUGrnYdtdt-dp0kwi2ZYl9QaU-sviyAFHwTeEIy-f1Rt5PxU1I5HRPTCrJh2Q9V6fuOu_-h_yeDutXOVqbfVFzNqdyxMo7cEr2zD6TXqIsJ-99NAHLi23OCgpqmdpUiv-E6sTgITnY04dEb1a1IOxISruhSsWtPJLhB64vG5SBKGzW-4MlY1Z2iAakNxfq6M52skXGv1rE8lc_r_pUJecx_vAyiMrW5bgffSEqJy-Ui7bisBYu-aB6SX4AMDwub9hHtMAMnZYI2zvSZejL5fUUK0v2A4v3Gp3LX8IkAsCV81MUAI3d5uAj8LnThw7UEYC81z3eeiVFIvdfX3EbMp-rJgB27Fi7cZm-iPe3UnEqjUpxTMdBtHv3zMhcios4QT1vsgUsE2fL8yuCyva88guk5diktJ6T4pOxYv1YUSG6yfH_r8qrujDn3sXD8bxqW5hcxKz10HKLNZBqDyXq3GNNpmp842Vu-npB4NpizJPyB-8_3kCkNwRuf7_UfE&grant_type=authorization_code&redirect_uri=http%3A//localhost%3A8080/\n-----------------------------------------------------------------------\n<RESP> 400 Bad Request\nContent-Type: application/json\nContent-Length: 79\n\n{\"error\":\"invalid_request\",\"error_description\":\"Handle could not be extracted\"}\n-----------------------------------------------------------------------"
     ]
    }
   ],
   "source": [
    "api.request_token(code)\n"
   ]
  }
 ],
 "metadata": {
  "kernelspec": {
   "display_name": ".mypm4py",
   "language": "python",
   "name": "python3"
  },
  "language_info": {
   "codemirror_mode": {
    "name": "ipython",
    "version": 3
   },
   "file_extension": ".py",
   "mimetype": "text/x-python",
   "name": "python",
   "nbconvert_exporter": "python",
   "pygments_lexer": "ipython3",
   "version": "3.10.12"
  }
 },
 "nbformat": 4,
 "nbformat_minor": 2
}
