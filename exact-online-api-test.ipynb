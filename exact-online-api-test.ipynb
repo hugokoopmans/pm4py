{
 "cells": [
  {
   "cell_type": "code",
   "execution_count": null,
   "metadata": {},
   "outputs": [],
   "source": [
    "# pip install\n",
    "!pip install exactonline"
   ]
  },
  {
   "cell_type": "markdown",
   "metadata": {},
   "source": []
  },
  {
   "cell_type": "code",
   "execution_count": null,
   "metadata": {},
   "outputs": [],
   "source": [
    "# exact online api py\n",
    "\n",
    "from exactonline.api import ExactApi\n",
    "from exactonline.exceptions import ObjectDoesNotExist\n",
    "from exactonline.storage import IniStorage\n",
    "\n",
    "# Create a function to get the api with your own storage backend.\n",
    "def get_api():\n",
    "    storage = IniStorage('./config.ini')\n",
    "    return ExactApi(storage=storage)\n",
    "api = get_api()"
   ]
  },
  {
   "cell_type": "code",
   "execution_count": null,
   "metadata": {},
   "outputs": [],
   "source": [
    "url = api.create_auth_request_url()"
   ]
  },
  {
   "cell_type": "code",
   "execution_count": null,
   "metadata": {},
   "outputs": [],
   "source": [
    "# the redirect does not work but we can get the code by hand\n",
    "url"
   ]
  },
  {
   "cell_type": "code",
   "execution_count": null,
   "metadata": {},
   "outputs": [],
   "source": [
    "code = 'stampNL001.RcKG%21IAAAAPAOCY7N6XgLi3AAPqWebTdntbn1drfTDnPljL_agH844QEAAAEh7e0FpCLG89hqPgz9bziGAd2v7Gh4Vpd3sGxhROBwI7YypfINrHIYpINRiDOY-3777POy9v7AnVHY7ui7ukN4cwoXNG8IiO5iA0XV70sblnNBmtXXAoZpX_BLQXKcj93dhvXOUGrnYdtdt-dp0kwi2ZYl9QaU-sviyAFHwTeEIy-f1Rt5PxU1I5HRPTCrJh2Q9V6fuOu_-h_yeDutXOVqbfVFzNqdyxMo7cEr2zD6TXqIsJ-99NAHLi23OCgpqmdpUiv-E6sTgITnY04dEb1a1IOxISruhSsWtPJLhB64vG5SBKGzW-4MlY1Z2iAakNxfq6M52skXGv1rE8lc_r_pUJecx_vAyiMrW5bgffSEqJy-Ui7bisBYu-aB6SX4AMDwub9hHtMAMnZYI2zvSZejL5fUUK0v2A4v3Gp3LX8IkAsCV81MUAI3d5uAj8LnThw7UEYC81z3eeiVFIvdfX3EbMp-rJgB27Fi7cZm-iPe3UnEqjUpxTMdBtHv3zMhcios4QT1vsgUsE2fL8yuCyva88guk5diktJ6T4pOxYv1YUSG6yfH_r8qrujDn3sXD8bxqW5hcxKz10HKLNZBqDyXq3GNNpmp842Vu-npB4NpizJPyB-8_3kCkNwRuf7_UfE'"
   ]
  },
  {
   "cell_type": "code",
   "execution_count": null,
   "metadata": {},
   "outputs": [],
   "source": [
    "api.request_token(code)\n"
   ]
  }
 ],
 "metadata": {
  "kernelspec": {
   "display_name": ".mypm4py",
   "language": "python",
   "name": "python3"
  },
  "language_info": {
   "codemirror_mode": {
    "name": "ipython",
    "version": 3
   },
   "file_extension": ".py",
   "mimetype": "text/x-python",
   "name": "python",
   "nbconvert_exporter": "python",
   "pygments_lexer": "ipython3",
   "version": "3.10.12"
  }
 },
 "nbformat": 4,
 "nbformat_minor": 2
}
