{
 "cells": [
  {
   "cell_type": "code",
   "execution_count": null,
   "metadata": {},
   "outputs": [],
   "source": [
    "# test custom code by Joep\n",
    "# zie https://github.com/Bluemine-Intelligence/ExaExact/blob/master/exaexact/exact_online.py\n",
    "# de nodige files staan in de folder exaexact"
   ]
  },
  {
   "cell_type": "code",
   "execution_count": null,
   "metadata": {},
   "outputs": [],
   "source": [
    "# install exaexact  via setup.py\n",
    "%pip install -e ."
   ]
  },
  {
   "cell_type": "code",
   "execution_count": null,
   "metadata": {},
   "outputs": [],
   "source": [
    "%pip install python-dotenv"
   ]
  },
  {
   "cell_type": "code",
   "execution_count": null,
   "metadata": {},
   "outputs": [],
   "source": [
    "# load env variables from .env file\n",
    "import os\n",
    "from dotenv import load_dotenv\n",
    "\n",
    "load_dotenv()\n",
    "\n",
    "base_url = os.getenv(\"BASE_URL\")\n",
    "redirect_uri = os.getenv(\"REDIRECT_URI\")\n",
    "client_id = os.getenv(\"CLIENT_ID\")\n",
    "client_secret = os.getenv(\"CLIENT_SECRET\")"
   ]
  },
  {
   "cell_type": "code",
   "execution_count": null,
   "metadata": {},
   "outputs": [],
   "source": [
    "# de \"oauth dance\" is nodig om een token te krijgen\n",
    "# dit moet eenmalig gebeuren\n",
    "# daarna kun je de sessie in leven houden met de refresh token\n",
    "\n",
    "from exaexact.exact_online import ExactOnline\n",
    "#from getpass import getpass\n",
    "#client_secret=getpass('Enter your client_secret: ')\n",
    "\n",
    "exact = ExactOnline.create_session(host=base_url, client_id=client_id, client_secret=client_secret)"
   ]
  },
  {
   "cell_type": "code",
   "execution_count": null,
   "metadata": {},
   "outputs": [],
   "source": [
    "# vraag een token aan\n",
    "exact.request_token(host=base_url, client_secret=client_secret, redirect_uri=redirect_uri)"
   ]
  },
  {
   "cell_type": "code",
   "execution_count": null,
   "metadata": {},
   "outputs": [],
   "source": [
    "# check dat we de token hebben gekregen\n",
    "# nu kunnen we de refresh token gebruiken om een nieuwe token te krijgen\n",
    "# 600 seconden is 10 minuten geldig\n",
    "exact.oauth.token"
   ]
  },
  {
   "cell_type": "code",
   "execution_count": null,
   "metadata": {},
   "outputs": [],
   "source": [
    "# wie is er nu daadwerkelijk ingelogged?\n",
    "exact.me._cache"
   ]
  },
  {
   "cell_type": "code",
   "execution_count": null,
   "metadata": {},
   "outputs": [],
   "source": [
    "# een nieuwe token aanvragen om de sessie in leven te houden\n",
    "exact.request_token(host=base_url, client_secret=client_secret, redirect_uri=redirect_uri)\n",
    "exact.oauth.token"
   ]
  },
  {
   "cell_type": "code",
   "execution_count": null,
   "metadata": {},
   "outputs": [],
   "source": [
    "division = exact.current_division"
   ]
  },
  {
   "cell_type": "code",
   "execution_count": null,
   "metadata": {},
   "outputs": [],
   "source": [
    "# get today's date\n",
    "from datetime import datetime\n",
    "today = datetime.today().strftime('%Y-%m-%d')\n",
    "print(today)"
   ]
  },
  {
   "cell_type": "code",
   "execution_count": null,
   "metadata": {},
   "outputs": [],
   "source": [
    "import pandas as pd\n",
    "\n",
    "# get all active projects\n",
    "p = exact.get_entity_set('/api/v1/{division}/sync/Project/Projects')\n",
    "projects = p.get_entities().select('ID,Code,Description,AccountName,StartDate,EndDate,CreatorFullName,Manager').execute()\n",
    "#projects = p.get_entities().filter(f\"EndDate ge DateTime'{today}T00:00:00Z'\").execute()\n",
    "#projects = select_all(p).filter(\"AccountName eq 'CFIT'\").execute()\n",
    "dfp = pd.DataFrame(_._cache for _ in projects)\n",
    "dfp.head()\n"
   ]
  },
  {
   "cell_type": "code",
   "execution_count": null,
   "metadata": {},
   "outputs": [],
   "source": [
    "# active projects\n",
    "# filter dataframe by EndDate equal to 2000-01-01\n",
    "dfp = dfp[dfp['EndDate'] == '2000-01-01']\n",
    "#df = dfp[dfp['EndDate'].isnull()]\n",
    "dfp.head()"
   ]
  },
  {
   "cell_type": "code",
   "execution_count": null,
   "metadata": {},
   "outputs": [],
   "source": [
    "#dfp['EndDate'] = pd.to_datetime(dfp['EndDate'])\n",
    "#dfp.dtypes\n",
    "dfp.describe()"
   ]
  },
  {
   "cell_type": "code",
   "execution_count": null,
   "metadata": {},
   "outputs": [],
   "source": [
    "# get all active employees\n",
    "e = exact.get_entity_set('/api/v1/{division}/payroll/ActiveEmployments')\n",
    "employees = e.get_entities().select('Employee,EmployeeFullName,StartDate').execute()\n",
    "dfe = pd.DataFrame(_._cache for _ in employees)\n",
    "dfe\n"
   ]
  },
  {
   "cell_type": "code",
   "execution_count": null,
   "metadata": {},
   "outputs": [],
   "source": [
    "import pandas as pd\n",
    "from exaexact.exasol_odata import paginate\n",
    "\n",
    "start_date = '2023-07-01'\n",
    "timetransactions = exact.get_entity_set('/api/v1/{division}/project/TimeTransactions')\n",
    "exact_uren = paginate(timetransactions.get_entities().filter(f\"Date ge DateTime'{start_date}T00:00:00Z'\"))\n",
    "df = pd.DataFrame(_._cache for _ in exact_uren)"
   ]
  },
  {
   "cell_type": "code",
   "execution_count": null,
   "metadata": {},
   "outputs": [],
   "source": [
    "df.ProjectCode.unique()"
   ]
  },
  {
   "cell_type": "code",
   "execution_count": null,
   "metadata": {},
   "outputs": [],
   "source": [
    "pd.set_option('display.max_columns', None)\n",
    "df.shape"
   ]
  },
  {
   "cell_type": "code",
   "execution_count": null,
   "metadata": {},
   "outputs": [],
   "source": [
    "# Status of the transaction: 1 = Draft, 2 = Rejected, 10 = Submitted, 11 = Failed on approval, 14 = Processing, 16 = Processing, 19 = Failed while undoing approval, 20 = Final\n",
    "df[df['HourStatus'] != 10]\n",
    "\n",
    "df.shape"
   ]
  },
  {
   "cell_type": "code",
   "execution_count": null,
   "metadata": {},
   "outputs": [],
   "source": [
    "# alle input van hugo b257ad8a-bae9-4daa-998a-07fd29d8d7b1\t\n",
    "# driss dcd808b0-862a-4e9b-930e-72ab8000e9a3\t\n",
    "# remy 4e8fe02d-de2c-4ff1-8edb-f32d473bd1bd\n",
    "#employee_id = 'b257ad8a-bae9-4daa-998a-07fd29d8d7b1'\n",
    "#dfhk = df[df['Employee'] == employee_id]\n",
    "\n",
    "#df.iloc[0]['Employee'] == employee_id"
   ]
  },
  {
   "cell_type": "code",
   "execution_count": null,
   "metadata": {},
   "outputs": [],
   "source": [
    "# select columns from dataframe on create date and hourstatus\n",
    "\n",
    "# 'ID','Date','Employee','HourStatus','Project','ProjectDescription','Activity','ActivityDescription','Notes','Quantity','Unit','UnitDescription','Billable','BillableDescription','BillableAmountFC','BillableAmountDC','CostAmountFC','CostAmountDC','CostPriceFC','CostPriceDC','CostUnit','CostUnitDescription','CostUnitDe\n",
    "\n",
    "# Status of the transaction: 1 = Draft, 2 = Rejected, 10 = Submitted, 11 = Failed on approval, 14 = Processing, 16 = Processing, 19 = Failed while undoing approval, 20 = Final\n",
    "\n",
    "dfs = df[['ID','HourStatus','Created', 'Creator', 'CreatorFullName','Employee','Project','Activity','ActivityDescription','Modified', 'Modifier', 'ModifierFullName','ProjectCode', 'Quantity']]\n",
    "\n",
    "# add two new columns\n",
    "# event_timestamp and event \n",
    "dfs['event_date'] = dfs['Created']\n",
    "dfs['event'] = 'Draft'\n",
    "dfs['resource'] = dfs['CreatorFullName']\n",
    "dfs['org:group'] = dfs['ProjectCode']\n",
    "\n",
    "dfs.head()"
   ]
  },
  {
   "cell_type": "code",
   "execution_count": null,
   "metadata": {},
   "outputs": [],
   "source": [
    "dfs_draft = dfs[['ID','event_date','event','resource', 'org:group','Quantity']]"
   ]
  },
  {
   "cell_type": "code",
   "execution_count": null,
   "metadata": {},
   "outputs": [],
   "source": [
    "# dictionary with event codes\n",
    "event_dict = {1: 'Draft', 2: 'Rejected', 10: 'Submitted', 11: 'Failed on approval', 14: 'Processing', 16: 'Processing', 19: 'Failed while undoing approval', 20: 'Final'}\n",
    "\n",
    "# all other\n",
    "df2 = dfs[['ID','Modified','HourStatus','ModifierFullName', 'org:group','Quantity']]\n",
    "\n",
    "# replace event codes with event names\n",
    "df2['event'] = df2['HourStatus'].map(event_dict)\n"
   ]
  },
  {
   "cell_type": "code",
   "execution_count": null,
   "metadata": {},
   "outputs": [],
   "source": [
    "# rename columns in df2\n",
    "df2 = df2.rename(columns={'Modified': 'event_date', 'ModifierFullName': 'resource'})\n",
    "\n",
    "# drop hourstatus\n",
    "df2 = df2.drop(['HourStatus'], axis=1)"
   ]
  },
  {
   "cell_type": "code",
   "execution_count": null,
   "metadata": {},
   "outputs": [],
   "source": [
    "\n",
    "df3.head()"
   ]
  },
  {
   "cell_type": "code",
   "execution_count": null,
   "metadata": {},
   "outputs": [],
   "source": [
    "# merge dfs_draft and df2 into new dataframe\n",
    "df3 = pd.concat([dfs_draft, df2], ignore_index=True)"
   ]
  },
  {
   "cell_type": "code",
   "execution_count": null,
   "metadata": {},
   "outputs": [],
   "source": [
    "df3.event.value_counts()"
   ]
  },
  {
   "cell_type": "code",
   "execution_count": null,
   "metadata": {},
   "outputs": [],
   "source": [
    "# save dataframe df3 to csv\n",
    "df3.to_csv('exacturen.csv', index=False)"
   ]
  },
  {
   "cell_type": "code",
   "execution_count": null,
   "metadata": {},
   "outputs": [],
   "source": [
    "# load dataframe from csv\n",
    "df3 = pd.read_csv('exacturen.csv')"
   ]
  },
  {
   "cell_type": "code",
   "execution_count": null,
   "metadata": {},
   "outputs": [],
   "source": [
    "# convert timestamp event_date to datetime format with timezone\n",
    "df3['event_date'] = pd.to_datetime(df3['event_date'], format=\"ISO8601\")\n",
    "# show column types of dataframe\n",
    "df3.dtypes\n",
    "\n",
    "\n"
   ]
  },
  {
   "cell_type": "code",
   "execution_count": null,
   "metadata": {},
   "outputs": [],
   "source": [
    "# import pm4py processmining library\n",
    "import pm4py\n",
    "\n",
    "# load dataframe directly into pm4py\n",
    "from pm4py.objects.conversion.log import converter as log_converter\n",
    "\n",
    "# convert dataframe to event log\n",
    "df3.rename(columns={'event_date': 'time:timestamp', 'ID': 'case:concept:name', 'event': 'concept:name', 'resource': 'org:resource'}, inplace=True)\n",
    "\n",
    "#event_log = log_converter.apply(df3)\n",
    "#event_log = pm4py.format_dataframe(df3, case_id='ID', activity_key='event', timestamp_key='event_date', resource='resource')\n",
    "event_log =df3\n",
    "\n",
    "process_model = pm4py.discover_bpmn_inductive(event_log)"
   ]
  },
  {
   "cell_type": "code",
   "execution_count": null,
   "metadata": {},
   "outputs": [],
   "source": [
    "pm4py.view_bpmn(process_model)"
   ]
  },
  {
   "cell_type": "code",
   "execution_count": null,
   "metadata": {},
   "outputs": [],
   "source": [
    "pm4py.write_bpmn(process_model, \"process_model.bpmn\")"
   ]
  },
  {
   "cell_type": "code",
   "execution_count": null,
   "metadata": {},
   "outputs": [],
   "source": [
    "# discover dfg\n",
    "pm2 = pm4py.discover_dfg(event_log)"
   ]
  },
  {
   "cell_type": "code",
   "execution_count": null,
   "metadata": {},
   "outputs": [],
   "source": [
    "dfg, start_activities, end_activities = pm4py.discover_dfg(event_log)\n",
    "pm4py.view_dfg(dfg, start_activities, end_activities)"
   ]
  },
  {
   "cell_type": "code",
   "execution_count": null,
   "metadata": {},
   "outputs": [],
   "source": [
    "dfg, start_activities, end_activities = pm4py.discover_performance_dfg(event_log)\n",
    "pm4py.view_performance_dfg(dfg, start_activities, end_activities)"
   ]
  },
  {
   "cell_type": "code",
   "execution_count": null,
   "metadata": {},
   "outputs": [],
   "source": [
    "%pip install pyvis"
   ]
  },
  {
   "cell_type": "code",
   "execution_count": null,
   "metadata": {},
   "outputs": [],
   "source": [
    "%pip install networkx"
   ]
  },
  {
   "cell_type": "code",
   "execution_count": null,
   "metadata": {},
   "outputs": [],
   "source": [
    "import pyvis\n",
    "\n",
    "#import networkx as nx\n",
    "\n",
    "hw_values = pm4py.discover_handover_of_work_network(event_log)\n",
    "pm4py.view_sna(hw_values)\n"
   ]
  },
  {
   "cell_type": "code",
   "execution_count": null,
   "metadata": {},
   "outputs": [],
   "source": [
    "pm4py.view_dotted_chart(event_log, format=\"png\", attributes=[\"concept:name\", \"org:resource\", \"org:group\"])"
   ]
  },
  {
   "cell_type": "code",
   "execution_count": null,
   "metadata": {},
   "outputs": [],
   "source": [
    "# filter dataframe by month on date column\n",
    "dfhk['Date'] = pd.to_datetime(dfhk['Date'])\n",
    "\n",
    "# select only the month november\n",
    "dfhk[dfhk['Date'].dt.month == 11]"
   ]
  },
  {
   "cell_type": "code",
   "execution_count": null,
   "metadata": {},
   "outputs": [],
   "source": [
    "from exaexact.exasol_odata import paginate, select_all\n",
    "\n",
    "import pandas as pd\n",
    "\n",
    "# de financial_sync is een object dat de tabellen van Exact Online beschikbaar maakt\n",
    "financial_sync = exact.odata('/api/v1/{division}/sync/Financial/')\n",
    "table = financial_sync.entity_sets.TransactionLines\n",
    "df = pd.DataFrame(r._cache for r in paginate(select_all(table).filter('Timestamp ge 6599814500L').top(100)))\n",
    "df"
   ]
  },
  {
   "cell_type": "code",
   "execution_count": null,
   "metadata": {},
   "outputs": [],
   "source": [
    "print(p)"
   ]
  },
  {
   "cell_type": "code",
   "execution_count": null,
   "metadata": {},
   "outputs": [],
   "source": [
    "from exaexact.exasol_odata import paginate, select_all\n",
    "\n",
    "import pandas as pd\n",
    "\n",
    "# de financial_sync is een object dat de tabellen van Exact Online beschikbaar maakt\n",
    "financial_sync = exact.odata('/api/v1/{division}/sync/Financial/')\n",
    "table = financial_sync.entity_sets.TransactionLines\n",
    "df = pd.DataFrame(r._cache for r in paginate(select_all(table).filter('Timestamp ge 6599814500L').top(100)))\n",
    "df"
   ]
  },
  {
   "cell_type": "code",
   "execution_count": null,
   "metadata": {},
   "outputs": [],
   "source": [
    "# /api/v1/{division}/project/Projects\n",
    "\n",
    "p = exact.odata('/api/v1/{division}/project/Projects')\n",
    "\n"
   ]
  },
  {
   "cell_type": "code",
   "execution_count": null,
   "metadata": {},
   "outputs": [],
   "source": [
    "df = pd.DataFrame(r._cache for r in paginate(select_all(table).top(100)))\n",
    "df"
   ]
  }
 ],
 "metadata": {
  "kernelspec": {
   "display_name": ".mypm4py",
   "language": "python",
   "name": "python3"
  },
  "language_info": {
   "codemirror_mode": {
    "name": "ipython",
    "version": 3
   },
   "file_extension": ".py",
   "mimetype": "text/x-python",
   "name": "python",
   "nbconvert_exporter": "python",
   "pygments_lexer": "ipython3",
   "version": "3.10.12"
  }
 },
 "nbformat": 4,
 "nbformat_minor": 2
}
