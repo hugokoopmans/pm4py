{
 "cells": [
  {
   "cell_type": "code",
   "execution_count": null,
   "metadata": {},
   "outputs": [],
   "source": [
    "# test custom code by Joep\n",
    "# zie https://github.com/Bluemine-Intelligence/ExaExact/blob/master/exaexact/exact_online.py\n",
    "# de nodige files staan in de folder exaexact"
   ]
  },
  {
   "cell_type": "code",
   "execution_count": null,
   "metadata": {},
   "outputs": [],
   "source": [
    "# install exaexact  via setup.py\n",
    "%pip install -e ."
   ]
  },
  {
   "cell_type": "code",
   "execution_count": null,
   "metadata": {},
   "outputs": [],
   "source": [
    "%pip install python-dotenv"
   ]
  },
  {
   "cell_type": "code",
   "execution_count": null,
   "metadata": {},
   "outputs": [],
   "source": [
    "# load env variables from .env file\n",
    "import os\n",
    "from dotenv import load_dotenv\n",
    "\n",
    "load_dotenv()\n",
    "\n",
    "base_url = os.getenv(\"BASE_URL\")\n",
    "redirect_uri = os.getenv(\"REDIRECT_URI\")\n",
    "client_id = os.getenv(\"CLIENT_ID\")\n",
    "client_secret = os.getenv(\"CLIENT_SECRET\")"
   ]
  },
  {
   "cell_type": "code",
   "execution_count": null,
   "metadata": {},
   "outputs": [],
   "source": [
    "# de \"oauth dance\" is nodig om een token te krijgen\n",
    "# dit moet eenmalig gebeuren\n",
    "# daarna kun je de sessie in leven houden met de refresh token\n",
    "\n",
    "from exaexact.exact_online import ExactOnline\n",
    "#from getpass import getpass\n",
    "#client_secret=getpass('Enter your client_secret: ')\n",
    "\n",
    "exact = ExactOnline.create_session(host=base_url, client_id=client_id, client_secret=client_secret)\n",
    "\n",
    "# vraag een token aan\n",
    "exact.request_token(host=base_url, client_secret=client_secret, redirect_uri=redirect_uri)"
   ]
  },
  {
   "cell_type": "code",
   "execution_count": null,
   "metadata": {},
   "outputs": [],
   "source": [
    "# check dat we de token hebben gekregen\n",
    "# nu kunnen we de refresh token gebruiken om een nieuwe token te krijgen\n",
    "# 600 seconden is 10 minuten geldig\n",
    "exact.oauth.token"
   ]
  },
  {
   "cell_type": "code",
   "execution_count": null,
   "metadata": {},
   "outputs": [],
   "source": [
    "# wie is er nu daadwerkelijk ingelogged?\n",
    "exact.me._cache"
   ]
  },
  {
   "cell_type": "code",
   "execution_count": null,
   "metadata": {},
   "outputs": [],
   "source": [
    "# een nieuwe token aanvragen om de sessie in leven te houden\n",
    "exact.request_token(host=base_url, client_secret=client_secret, redirect_uri=redirect_uri)\n",
    "exact.oauth.token"
   ]
  },
  {
   "cell_type": "code",
   "execution_count": null,
   "metadata": {},
   "outputs": [],
   "source": [
    "division = exact.current_division"
   ]
  },
  {
   "cell_type": "code",
   "execution_count": null,
   "metadata": {},
   "outputs": [],
   "source": [
    "# get today's date\n",
    "from datetime import datetime\n",
    "today = datetime.today().strftime('%Y-%m-%d')\n",
    "print(today)"
   ]
  },
  {
   "cell_type": "code",
   "execution_count": null,
   "metadata": {},
   "outputs": [],
   "source": [
    "# get all active projects\n",
    "p = exact.get_entity_set('/api/v1/{division}/sync/Project/Projects')\n",
    "projects = p.get_entities().select('ID,Code,Description,AccountName,StartDate,EndDate,CreatorFullName,Manager').execute()\n",
    "#projects = p.get_entities().filter(f\"EndDate ge DateTime'{today}T00:00:00Z'\").execute()\n",
    "#projects = select_all(p).filter(\"AccountName eq 'CFIT'\").execute()\n",
    "dfp = pd.DataFrame(_._cache for _ in projects)\n",
    "dfp.head()\n"
   ]
  },
  {
   "cell_type": "code",
   "execution_count": null,
   "metadata": {},
   "outputs": [],
   "source": [
    "# active projects\n",
    "# filter dataframe by EndDate equal to 2000-01-01\n",
    "dfp = dfp[dfp['EndDate'] == '2000-01-01']\n",
    "#df = dfp[dfp['EndDate'].isnull()]\n",
    "dfp.head()"
   ]
  },
  {
   "cell_type": "code",
   "execution_count": null,
   "metadata": {},
   "outputs": [],
   "source": [
    "#dfp['EndDate'] = pd.to_datetime(dfp['EndDate'])\n",
    "#dfp.dtypes\n",
    "dfp.describe()"
   ]
  },
  {
   "cell_type": "code",
   "execution_count": null,
   "metadata": {},
   "outputs": [],
   "source": [
    "# get all active employees\n",
    "e = exact.get_entity_set('/api/v1/{division}/payroll/ActiveEmployments')\n",
    "employees = e.get_entities().select('Employee,EmployeeFullName,StartDate').execute()\n",
    "dfe = pd.DataFrame(_._cache for _ in employees)\n",
    "dfe\n"
   ]
  },
  {
   "cell_type": "code",
   "execution_count": null,
   "metadata": {},
   "outputs": [],
   "source": [
    "import pandas as pd\n",
    "from exaexact.exasol_odata import paginate\n",
    "\n",
    "start_date = '2023-11-01'\n",
    "timetransactions = exact.get_entity_set('/api/v1/{division}/project/TimeTransactions')\n",
    "exact_uren = paginate(timetransactions.get_entities().filter(f\"Date ge DateTime'{start_date}T00:00:00Z'\"))\n",
    "df = pd.DataFrame(_._cache for _ in exact_uren)"
   ]
  },
  {
   "cell_type": "code",
   "execution_count": null,
   "metadata": {},
   "outputs": [],
   "source": [
    "pd.set_option('display.max_columns', None)\n",
    "df.head()"
   ]
  },
  {
   "cell_type": "code",
   "execution_count": null,
   "metadata": {},
   "outputs": [],
   "source": [
    "# Status of the transaction: 1 = Draft, 2 = Rejected, 10 = Submitted, 11 = Failed on approval, 14 = Processing, 16 = Processing, 19 = Failed while undoing approval, 20 = Final\n",
    "df[df['HourStatus'] != 10]\n"
   ]
  },
  {
   "cell_type": "code",
   "execution_count": null,
   "metadata": {},
   "outputs": [],
   "source": [
    "# alle input van hugo b257ad8a-bae9-4daa-998a-07fd29d8d7b1\t\n",
    "# driss dcd808b0-862a-4e9b-930e-72ab8000e9a3\t\n",
    "# remy 4e8fe02d-de2c-4ff1-8edb-f32d473bd1bd\n",
    "employee_id = '4e8fe02d-de2c-4ff1-8edb-f32d473bd1bd'\n",
    "df[df['Employee'] == employee_id]\n",
    "\n",
    "#df.iloc[0]['Employee'] == employee_id"
   ]
  },
  {
   "cell_type": "code",
   "execution_count": null,
   "metadata": {},
   "outputs": [],
   "source": [
    "from exaexact.exasol_odata import paginate, select_all\n",
    "\n",
    "import pandas as pd\n",
    "\n",
    "# de financial_sync is een object dat de tabellen van Exact Online beschikbaar maakt\n",
    "financial_sync = exact.odata('/api/v1/{division}/sync/Financial/')\n",
    "table = financial_sync.entity_sets.TransactionLines\n",
    "df = pd.DataFrame(r._cache for r in paginate(select_all(table).filter('Timestamp ge 6599814500L').top(100)))\n",
    "df"
   ]
  },
  {
   "cell_type": "code",
   "execution_count": null,
   "metadata": {},
   "outputs": [],
   "source": [
    "print(p)"
   ]
  },
  {
   "cell_type": "code",
   "execution_count": null,
   "metadata": {},
   "outputs": [],
   "source": [
    "from exaexact.exasol_odata import paginate, select_all\n",
    "\n",
    "import pandas as pd\n",
    "\n",
    "# de financial_sync is een object dat de tabellen van Exact Online beschikbaar maakt\n",
    "financial_sync = exact.odata('/api/v1/{division}/sync/Financial/')\n",
    "table = financial_sync.entity_sets.TransactionLines\n",
    "df = pd.DataFrame(r._cache for r in paginate(select_all(table).filter('Timestamp ge 6599814500L').top(100)))\n",
    "df"
   ]
  },
  {
   "cell_type": "code",
   "execution_count": null,
   "metadata": {},
   "outputs": [],
   "source": [
    "# /api/v1/{division}/project/Projects\n",
    "\n",
    "p = exact.odata('/api/v1/{division}/project/Projects')\n",
    "\n"
   ]
  },
  {
   "cell_type": "code",
   "execution_count": null,
   "metadata": {},
   "outputs": [],
   "source": [
    "df = pd.DataFrame(r._cache for r in paginate(select_all(table).top(100)))\n",
    "df"
   ]
  }
 ],
 "metadata": {
  "kernelspec": {
   "display_name": ".mypm4py",
   "language": "python",
   "name": "python3"
  },
  "language_info": {
   "codemirror_mode": {
    "name": "ipython",
    "version": 3
   },
   "file_extension": ".py",
   "mimetype": "text/x-python",
   "name": "python",
   "nbconvert_exporter": "python",
   "pygments_lexer": "ipython3",
   "version": "3.10.12"
  }
 },
 "nbformat": 4,
 "nbformat_minor": 2
}
